{
  "nbformat": 4,
  "nbformat_minor": 0,
  "metadata": {
    "colab": {
      "provenance": []
    },
    "kernelspec": {
      "name": "python3",
      "display_name": "Python 3"
    },
    "language_info": {
      "name": "python"
    }
  },
  "cells": [
    {
      "cell_type": "code",
      "execution_count": null,
      "metadata": {
        "id": "2UQJpHfsVzNb"
      },
      "outputs": [],
      "source": [
        "import pandas as pd\n",
        "from sklearn.model_selection import train_test_split\n",
        "from sklearn.ensemble import RandomForestClassifier\n",
        "from sklearn.metrics import accuracy_score, classification_report\n",
        "\n",
        "# Membaca file CSV\n",
        "df = pd.read_csv('drive/MyDrive/data/POS_CASH_balance.csv')\n",
        "\n",
        "# Memastikan tidak ada nilai yang hilang\n",
        "df = df.dropna()\n",
        "\n",
        "# Mengisi nilai yang hilang\n",
        "df_numeric = df.select_dtypes(include=['int64', 'float64'])\n",
        "df = df.fillna(df_numeric.median())\n",
        "\n",
        "# Encoding variabel kategorikal\n",
        "df = pd.get_dummies(df, columns=['NAME_CONTRACT_STATUS'])\n",
        "\n",
        "# Memisahkan fitur dan target\n",
        "X = df[['MONTHS_BALANCE', 'CNT_INSTALMENT', 'CNT_INSTALMENT_FUTURE']]\n",
        "y = df[['NAME_CONTRACT_STATUS_Active', 'NAME_CONTRACT_STATUS_Completed', 'NAME_CONTRACT_STATUS_Signed']]\n",
        "\n",
        "# Membagi data menjadi data latih dan data uji\n",
        "X_train, X_test, y_train, y_test = train_test_split(X, y, test_size=0.2, random_state=42)\n",
        "\n",
        "# Membuat model Random Forest\n",
        "model = RandomForestClassifier(n_estimators=100, random_state=42)\n",
        "\n",
        "# Melatih model\n",
        "model.fit(X_train, y_train)\n",
        "\n",
        "# Membuat prediksi\n",
        "y_pred = model.predict(X_test)\n",
        "\n",
        "# Evaluasi model\n",
        "accuracy = accuracy_score(y_test, y_pred)\n",
        "report = classification_report(y_test, y_pred)\n",
        "\n",
        "print(\"Accuracy:\", accuracy)\n",
        "print(\"Classification Report:\")\n",
        "print(report)\n",
        "\n",
        "\n"
      ]
    }
  ]
}